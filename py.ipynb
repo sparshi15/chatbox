{
 "cells": [
  {
   "cell_type": "code",
   "execution_count": 2,
   "id": "d5509271",
   "metadata": {},
   "outputs": [
    {
     "name": "stdout",
     "output_type": "stream",
     "text": [
      "✅ Model saved to chatbot_model.pkl\n"
     ]
    },
    {
     "name": "stderr",
     "output_type": "stream",
     "text": [
      "c:\\Users\\91706\\anaconda3\\envs\\churn_env\\lib\\site-packages\\sklearn\\preprocessing\\_label.py:302: UserWarning: The number of unique classes is greater than 50% of the number of samples.\n",
      "  self.y_type_ = type_of_target(y, input_name=\"y\")\n",
      "c:\\Users\\91706\\anaconda3\\envs\\churn_env\\lib\\site-packages\\sklearn\\utils\\multiclass.py:79: UserWarning: The number of unique classes is greater than 50% of the number of samples.\n",
      "  ys_types = set(type_of_target(x) for x in ys)\n",
      "c:\\Users\\91706\\anaconda3\\envs\\churn_env\\lib\\site-packages\\sklearn\\preprocessing\\_label.py:359: UserWarning: The number of unique classes is greater than 50% of the number of samples.\n",
      "  y_is_multilabel = type_of_target(y).startswith(\"multilabel\")\n",
      "c:\\Users\\91706\\anaconda3\\envs\\churn_env\\lib\\site-packages\\sklearn\\preprocessing\\_label.py:528: UserWarning: The number of unique classes is greater than 50% of the number of samples.\n",
      "  y_type = type_of_target(y)\n"
     ]
    }
   ],
   "source": [
    "import json\n",
    "import pickle\n",
    "from sklearn.feature_extraction.text import TfidfVectorizer\n",
    "from sklearn.naive_bayes import MultinomialNB\n",
    "from sklearn.pipeline import Pipeline\n",
    "\n",
    "# Load your timetable\n",
    "with open(\"timetable.json\") as f:\n",
    "    timetable = json.load(f)\n",
    "\n",
    "# Generate synthetic Q&A pairs from each entry\n",
    "qa_pairs = []\n",
    "for entry in timetable:\n",
    "    qa_pairs.append({\n",
    "        \"question\": f\"What class do I have on {entry['day']} at {entry['time']}?\",\n",
    "        \"answer\": f\"{entry['subject']} with {entry['faculty']} in {entry['room']} on {entry['day']} at {entry['time']}.\"\n",
    "    })\n",
    "    qa_pairs.append({\n",
    "        \"question\": f\"When is {entry['subject']}?\",\n",
    "        \"answer\": f\"{entry['subject']} is on {entry['day']} at {entry['time']} in {entry['room']}.\"\n",
    "    })\n",
    "    qa_pairs.append({\n",
    "        \"question\": f\"Who teaches {entry['subject']}?\",\n",
    "        \"answer\": f\"{entry['faculty']} teaches {entry['subject']} on {entry['day']} at {entry['time']} in {entry['room']}.\"\n",
    "    })\n",
    "\n",
    "# Prepare training data\n",
    "X = [q[\"question\"] for q in qa_pairs]\n",
    "y = [q[\"answer\"] for q in qa_pairs]\n",
    "\n",
    "# Create a pipeline\n",
    "chatbot_pipeline = Pipeline([\n",
    "    (\"tfidf\", TfidfVectorizer()),\n",
    "    (\"clf\", MultinomialNB())\n",
    "])\n",
    "\n",
    "# Train and save the model\n",
    "chatbot_pipeline.fit(X, y)\n",
    "\n",
    "with open(\"chatbot_model.pkl\", \"wb\") as f:\n",
    "    pickle.dump(chatbot_pipeline, f)\n",
    "\n",
    "print(\"✅ Model saved to chatbot_model.pkl\")\n"
   ]
  },
  {
   "cell_type": "code",
   "execution_count": null,
   "id": "b9b83091",
   "metadata": {},
   "outputs": [],
   "source": []
  }
 ],
 "metadata": {
  "kernelspec": {
   "display_name": "Python (churn_env)",
   "language": "python",
   "name": "churn_env"
  },
  "language_info": {
   "codemirror_mode": {
    "name": "ipython",
    "version": 3
   },
   "file_extension": ".py",
   "mimetype": "text/x-python",
   "name": "python",
   "nbconvert_exporter": "python",
   "pygments_lexer": "ipython3",
   "version": "3.10.18"
  }
 },
 "nbformat": 4,
 "nbformat_minor": 5
}
